{
 "cells": [
  {
   "cell_type": "code",
   "execution_count": 0,
   "metadata": {
    "application/vnd.databricks.v1+cell": {
     "cellMetadata": {
      "byteLimit": 2048000,
      "rowLimit": 10000
     },
     "inputWidgets": {},
     "nuid": "d5a7017f-668c-4890-be35-e5c539952471",
     "showTitle": false,
     "tableResultSettingsMap": {},
     "title": ""
    }
   },
   "outputs": [],
   "source": [
    "import yaml\n",
    "\n",
    "with open('../../configs/research_agent.yaml', 'r') as file:\n",
    "    config = yaml.safe_load(file)\n",
    "\n",
    "#load global configs\n",
    "databricks_config = config['databricks_config']\n",
    "\n",
    "#load uc configs\n",
    "catalog=databricks_config['catalog']\n",
    "schema=databricks_config['schema']\n",
    "eval_table = databricks_config['eval_table_name']"
   ]
  },
  {
   "cell_type": "markdown",
   "metadata": {
    "application/vnd.databricks.v1+cell": {
     "cellMetadata": {
      "byteLimit": 2048000,
      "rowLimit": 10000
     },
     "inputWidgets": {},
     "nuid": "596af5c6-87b6-460a-903f-b7aeca91821c",
     "showTitle": false,
     "tableResultSettingsMap": {},
     "title": ""
    }
   },
   "source": [
    "# Example Eval Schema\n",
    "\n",
    "```\n",
    "eval_dataset_list = [\n",
    "    {\n",
    "        \"inputs\": {\n",
    "            \"messages\": [\n",
    "                {\n",
    "                    \"role\": \"user\",\n",
    "                    \"content\": \"What was American Express's total revenue in 2020?\",\n",
    "                }\n",
    "            ]\n",
    "        },\n",
    "        \"expectations\": {\n",
    "            \"expected_response\": \"$36.1 billion\"\n",
    "        \n",
    "        },\n",
    "    },\n",
    "    {\n",
    "        \"inputs\": {\n",
    "            \"messages\": [\n",
    "                {\"role\": \"user\", \"content\": \"What was AAPL's operating income in 2022?\"}\n",
    "            ]\n",
    "        },\n",
    "        \"expectations\": {\n",
    "            \"expected_response\": \"$119,437 million or $119.4 billion\"\n",
    "        \n",
    "        },\n",
    "    },\n",
    "    {\n",
    "        \"inputs\": {\n",
    "            \"messages\": [\n",
    "                {\n",
    "                    \"role\": \"user\",\n",
    "                    \"content\": \"What was the quick ratio for American express in 2022? What factors contributed to this?\",\n",
    "                }\n",
    "            ]\n",
    "        },\n",
    "        \"expectations\": {\n",
    "            \"expected_facts:\": [\"7.02\", \"30% growth in customer deposits\", \"reduced short term borrowing\"]\n",
    "        },\n",
    "    },\n",
    "    {\n",
    "        \"inputs\": {\n",
    "            \"messages\": [\n",
    "                {\n",
    "                    \"role\": \"user\",\n",
    "                    \"content\": \"How did APPL's operating margin change between 2020 and 2021? What factors contributed to this?\",\n",
    "                }\n",
    "            ]\n",
    "        },\n",
    "        \"expectations\": {\n",
    "            \"expected_facts:\": [\"3.2 percentage points\", \"exceptional sales growth in the iphone, mac, and ipad business\"]\n",
    "        },\n",
    "    },\n",
    "]\n",
    "```"
   ]
  },
  {
   "cell_type": "code",
   "execution_count": 0,
   "metadata": {
    "application/vnd.databricks.v1+cell": {
     "cellMetadata": {
      "byteLimit": 2048000,
      "rowLimit": 10000
     },
     "inputWidgets": {},
     "nuid": "c71bddd4-cfb9-4da2-93ac-716405d9ea7e",
     "showTitle": false,
     "tableResultSettingsMap": {},
     "title": ""
    }
   },
   "outputs": [],
   "source": [
    "import os\n",
    "evals = spark.read.format(\"csv\").option(\"header\", \"true\").option(\"delimiter\", \"\\t\").load(f\"file://{os.getcwd()}/finance_bench_evals.tsv\")\n",
    "display(evals)"
   ]
  },
  {
   "cell_type": "code",
   "execution_count": 0,
   "metadata": {
    "application/vnd.databricks.v1+cell": {
     "cellMetadata": {
      "byteLimit": 2048000,
      "rowLimit": 10000
     },
     "inputWidgets": {},
     "nuid": "72802f93-2d75-48f7-8710-3fdfb62a43f0",
     "showTitle": false,
     "tableResultSettingsMap": {},
     "title": ""
    }
   },
   "outputs": [],
   "source": [
    "from pyspark.sql import functions as F\n",
    "from pyspark.sql.functions import split, struct, col\n",
    "\n",
    "# starting df: inputs, expected_response\n",
    "evals_final = (\n",
    "    evals.select(\n",
    "        # ── build the {\"messages\": [{\"role\":\"user\",\"content\": <inputs>}] } struct ──\n",
    "        F.struct(                                                            \n",
    "            F.array(                                                         \n",
    "                F.struct(                                                   \n",
    "                    F.lit(\"user\").alias(\"role\"),                            \n",
    "                    F.col(\"request\").alias(\"content\")                        \n",
    "                )\n",
    "            ).alias(\"messages\")                                             \n",
    "        ).alias(\"inputs\"),                                                  \n",
    "\n",
    "        # ── wrap expected_response ─────────────────────────────────────────\n",
    "        F.struct(col(\"expected_response\")\n",
    "    ).alias(\"expectations\")\n",
    "    )\n",
    ")"
   ]
  },
  {
   "cell_type": "code",
   "execution_count": 0,
   "metadata": {
    "application/vnd.databricks.v1+cell": {
     "cellMetadata": {
      "byteLimit": 2048000,
      "rowLimit": 10000
     },
     "inputWidgets": {},
     "nuid": "4063398a-a8c6-49f4-afa7-60906e2a3757",
     "showTitle": false,
     "tableResultSettingsMap": {},
     "title": ""
    }
   },
   "outputs": [],
   "source": [
    "display(evals_final)"
   ]
  },
  {
   "cell_type": "code",
   "execution_count": 0,
   "metadata": {
    "application/vnd.databricks.v1+cell": {
     "cellMetadata": {
      "byteLimit": 2048000,
      "rowLimit": 10000
     },
     "inputWidgets": {},
     "nuid": "a0b6e1af-412a-432d-8bf9-4792570a33d2",
     "showTitle": false,
     "tableResultSettingsMap": {},
     "title": ""
    }
   },
   "outputs": [],
   "source": [
    "spark.sql(f\"DROP TABLE IF EXISTS `{catalog}`.{schema}.{eval_table}\")"
   ]
  },
  {
   "cell_type": "code",
   "execution_count": 0,
   "metadata": {
    "application/vnd.databricks.v1+cell": {
     "cellMetadata": {
      "byteLimit": 2048000,
      "rowLimit": 10000
     },
     "inputWidgets": {},
     "nuid": "fc6d41e3-eac7-4bac-80bd-14d5d6d99e8c",
     "showTitle": false,
     "tableResultSettingsMap": {},
     "title": ""
    }
   },
   "outputs": [],
   "source": [
    "evals_final.write.mode(\"overwrite\").saveAsTable(f\"`{catalog}`.{schema}.{eval_table}\")"
   ]
  },
  {
   "cell_type": "code",
   "execution_count": 0,
   "metadata": {
    "application/vnd.databricks.v1+cell": {
     "cellMetadata": {
      "byteLimit": 2048000,
      "rowLimit": 10000
     },
     "inputWidgets": {},
     "nuid": "cb2e5c5c-33d1-498d-8b09-ebaff87ee165",
     "showTitle": false,
     "tableResultSettingsMap": {},
     "title": ""
    }
   },
   "outputs": [],
   "source": [
    "display(spark.table(f\"`{catalog}`.{schema}.{eval_table}\"))"
   ]
  },
  {
   "cell_type": "code",
   "execution_count": 0,
   "metadata": {
    "application/vnd.databricks.v1+cell": {
     "cellMetadata": {
      "byteLimit": 2048000,
      "rowLimit": 10000
     },
     "inputWidgets": {},
     "nuid": "abe14893-3b01-4fb5-8689-6af25c0c78ea",
     "showTitle": false,
     "tableResultSettingsMap": {},
     "title": ""
    }
   },
   "outputs": [],
   "source": []
  }
 ],
 "metadata": {
  "application/vnd.databricks.v1+notebook": {
   "computePreferences": null,
   "dashboards": [],
   "environmentMetadata": {
    "base_environment": "",
    "environment_version": "2"
   },
   "inputWidgetPreferences": null,
   "language": "python",
   "notebookMetadata": {
    "pythonIndentUnit": 4
   },
   "notebookName": "ingest_evals",
   "widgets": {}
  },
  "language_info": {
   "name": "python"
  }
 },
 "nbformat": 4,
 "nbformat_minor": 0
}
